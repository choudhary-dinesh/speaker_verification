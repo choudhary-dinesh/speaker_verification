{
  "nbformat": 4,
  "nbformat_minor": 0,
  "metadata": {
    "colab": {
      "provenance": []
    },
    "kernelspec": {
      "name": "python3",
      "display_name": "Python 3"
    },
    "language_info": {
      "name": "python"
    }
  },
  "cells": [
    {
      "cell_type": "markdown",
      "source": [
        "#### Mount Drive &  Git clone Repo"
      ],
      "metadata": {
        "id": "7gxKN56xw71D"
      }
    },
    {
      "cell_type": "code",
      "source": [
        "from google.colab import drive\n",
        "drive.mount('/content/drive')"
      ],
      "metadata": {
        "colab": {
          "base_uri": "https://localhost:8080/"
        },
        "id": "eH2rC2cDKD-R",
        "outputId": "b1e22b03-a4a2-4b1a-d6dc-c0c2ffbfe43e"
      },
      "execution_count": 1,
      "outputs": [
        {
          "output_type": "stream",
          "name": "stdout",
          "text": [
            "Mounted at /content/drive\n"
          ]
        }
      ]
    },
    {
      "cell_type": "code",
      "source": [
        "!git clone https://github.com/choudhary-dinesh/speaker_verification"
      ],
      "metadata": {
        "colab": {
          "base_uri": "https://localhost:8080/"
        },
        "id": "tn6Ore9nPMYn",
        "outputId": "5a734191-8714-4711-f61b-9e709a306d28"
      },
      "execution_count": 2,
      "outputs": [
        {
          "output_type": "stream",
          "name": "stdout",
          "text": [
            "Cloning into 'speaker_verification'...\n",
            "remote: Enumerating objects: 24, done.\u001b[K\n",
            "remote: Counting objects: 100% (24/24), done.\u001b[K\n",
            "remote: Compressing objects: 100% (23/23), done.\u001b[K\n",
            "remote: Total 24 (delta 6), reused 0 (delta 0), pack-reused 0\u001b[K\n",
            "Receiving objects: 100% (24/24), 9.29 KiB | 9.29 MiB/s, done.\n",
            "Resolving deltas: 100% (6/6), done.\n"
          ]
        }
      ]
    },
    {
      "cell_type": "markdown",
      "source": [
        "#### Install requirements.txt & Import"
      ],
      "metadata": {
        "id": "yRtXmo3exGSu"
      }
    },
    {
      "cell_type": "code",
      "source": [
        "%cd /content/speaker_verification"
      ],
      "metadata": {
        "colab": {
          "base_uri": "https://localhost:8080/"
        },
        "id": "TDZLPWnGA2Od",
        "outputId": "a4511abd-8886-4637-fa9b-bdb1c8fe7e43"
      },
      "execution_count": 3,
      "outputs": [
        {
          "output_type": "stream",
          "name": "stdout",
          "text": [
            "/content/speaker_verification\n"
          ]
        }
      ]
    },
    {
      "cell_type": "code",
      "source": [
        "!pip install -r requirements.txt"
      ],
      "metadata": {
        "colab": {
          "base_uri": "https://localhost:8080/"
        },
        "id": "BFiGLKBexhy-",
        "outputId": "7e7ef403-4ffd-4a7d-e4a0-c1f4eb01d3a8"
      },
      "execution_count": 4,
      "outputs": [
        {
          "output_type": "stream",
          "name": "stdout",
          "text": [
            "Collecting python_speech_features==0.6 (from -r requirements.txt (line 1))\n",
            "  Downloading python_speech_features-0.6.tar.gz (5.6 kB)\n",
            "  Preparing metadata (setup.py) ... \u001b[?25l\u001b[?25hdone\n",
            "Building wheels for collected packages: python_speech_features\n",
            "  Building wheel for python_speech_features (setup.py) ... \u001b[?25l\u001b[?25hdone\n",
            "  Created wheel for python_speech_features: filename=python_speech_features-0.6-py3-none-any.whl size=5870 sha256=8f1c170c1f3d391fee5178974d9c5d895888194fc2cbff85fdabfdb18a54d44b\n",
            "  Stored in directory: /root/.cache/pip/wheels/5a/9e/68/30bad9462b3926c29e315df16b562216d12bdc215f4d240294\n",
            "Successfully built python_speech_features\n",
            "Installing collected packages: python_speech_features\n",
            "Successfully installed python_speech_features-0.6\n"
          ]
        }
      ]
    },
    {
      "cell_type": "code",
      "source": [
        "import numpy as np\n",
        "import pandas as pd\n",
        "from voxceleb_datasat import prepare_test_train_file_list\n",
        "from train import train_gmm\n",
        "from inference import predict_speaker\n",
        "from evaluation import calculate_metrics, calculate_far_frr_multiclass"
      ],
      "metadata": {
        "id": "_G3CK7bZvUU0"
      },
      "execution_count": 5,
      "outputs": []
    },
    {
      "cell_type": "markdown",
      "source": [
        "#### Put sample voxceleb data (wav files) into Repo/sample_data"
      ],
      "metadata": {
        "id": "ccvpxPWMxR4-"
      }
    },
    {
      "cell_type": "code",
      "source": [
        "!cp /content/drive/MyDrive/Classroom/sample_data.zip -d /content/speaker_verification"
      ],
      "metadata": {
        "id": "dxDpY59eAkBm"
      },
      "execution_count": 6,
      "outputs": []
    },
    {
      "cell_type": "code",
      "source": [
        "!unzip /content/speaker_verification/sample_data.zip"
      ],
      "metadata": {
        "id": "bwNHfaHpEA_6"
      },
      "execution_count": null,
      "outputs": []
    },
    {
      "cell_type": "code",
      "source": [
        "voxceleb_path = '/content/speaker_verification/sample_data/'"
      ],
      "metadata": {
        "id": "wCJoXnmUBjHA"
      },
      "execution_count": 8,
      "outputs": []
    },
    {
      "cell_type": "markdown",
      "source": [
        "#### Prepare dataset & split into train test using voxceleb_datasat.py"
      ],
      "metadata": {
        "id": "uv6xbOr9xg5r"
      }
    },
    {
      "cell_type": "code",
      "source": [
        "train_ratio = 0.8\n",
        "all_file_paths_train, all_file_paths_test = prepare_test_train_file_list(voxceleb_path,  train_ratio)"
      ],
      "metadata": {
        "colab": {
          "base_uri": "https://localhost:8080/"
        },
        "id": "hOyQnIwmn40C",
        "outputId": "0ef268e9-7431-4993-e4e7-93c9da048b1a"
      },
      "execution_count": 9,
      "outputs": [
        {
          "output_type": "stream",
          "name": "stdout",
          "text": [
            "Train data size: 776\n",
            "Test data size: 194\n"
          ]
        }
      ]
    },
    {
      "cell_type": "code",
      "source": [
        "dest = \"/content/speaker_verification/speaker_models/\"\n",
        "!mkdir {dest}"
      ],
      "metadata": {
        "id": "L-PXCdQu6VVC"
      },
      "execution_count": 10,
      "outputs": []
    },
    {
      "cell_type": "markdown",
      "source": [
        "#### Train GMM for each speaker using train.py (it will also use feature.py)"
      ],
      "metadata": {
        "id": "Nr4TCLkyxqq_"
      }
    },
    {
      "cell_type": "code",
      "source": [
        "train_gmm(all_file_paths_train,dest)"
      ],
      "metadata": {
        "colab": {
          "base_uri": "https://localhost:8080/"
        },
        "id": "VTaMZutbCqxX",
        "outputId": "3a9e03d3-454b-44c9-da0d-80a74394ca77"
      },
      "execution_count": 11,
      "outputs": [
        {
          "output_type": "stream",
          "name": "stdout",
          "text": [
            "Training model for id10001\n",
            "GMM trainned for speaker: id10001.gmm\n",
            "Training model for id10002\n",
            "GMM trainned for speaker: id10002.gmm\n",
            "Training model for id10003\n",
            "GMM trainned for speaker: id10003.gmm\n",
            "Training model for id10004\n",
            "GMM trainned for speaker: id10004.gmm\n",
            "Training model for id10005\n",
            "GMM trainned for speaker: id10005.gmm\n",
            "Training model for id10006\n",
            "GMM trainned for speaker: id10006.gmm\n",
            "Training model for id10007\n",
            "GMM trainned for speaker: id10007.gmm\n",
            "Training model for id10008\n",
            "GMM trainned for speaker: id10008.gmm\n",
            "Training model for id10009\n",
            "GMM trainned for speaker: id10009.gmm\n",
            "Training model for id10010\n",
            "GMM trainned for speaker: id10010.gmm\n"
          ]
        }
      ]
    },
    {
      "cell_type": "markdown",
      "source": [
        "#### Predict on test set, store result in df"
      ],
      "metadata": {
        "id": "Vv4hJTrZx0Xs"
      }
    },
    {
      "cell_type": "code",
      "source": [
        "results,speakers = predict_speaker(all_file_paths_test,dest)"
      ],
      "metadata": {
        "colab": {
          "base_uri": "https://localhost:8080/"
        },
        "id": "aOW_5ZgJGtfk",
        "outputId": "37001556-2525-481f-bc4c-2dfda6a912f6"
      },
      "execution_count": 12,
      "outputs": [
        {
          "output_type": "stream",
          "name": "stdout",
          "text": [
            "Total Speakers :  10\n",
            "Total GMM models :  10\n"
          ]
        },
        {
          "output_type": "stream",
          "name": "stderr",
          "text": [
            "100%|██████████| 194/194 [00:12<00:00, 16.01it/s]\n"
          ]
        }
      ]
    },
    {
      "cell_type": "code",
      "source": [
        "df  = pd.DataFrame(results, columns = ['wav_file','log_liklihood', 'pred'])\n",
        "df['label'] = df.wav_file.apply(lambda x : speakers.index(x.split('/')[-2]))\n",
        "df.head()"
      ],
      "metadata": {
        "colab": {
          "base_uri": "https://localhost:8080/",
          "height": 206
        },
        "id": "Gt5163PV0lwF",
        "outputId": "37ebec0d-58fa-4d15-e9fd-c2164a238346"
      },
      "execution_count": 13,
      "outputs": [
        {
          "output_type": "execute_result",
          "data": {
            "text/plain": [
              "                                            wav_file  \\\n",
              "0  /content/speaker_verification/sample_data/id10...   \n",
              "1  /content/speaker_verification/sample_data/id10...   \n",
              "2  /content/speaker_verification/sample_data/id10...   \n",
              "3  /content/speaker_verification/sample_data/id10...   \n",
              "4  /content/speaker_verification/sample_data/id10...   \n",
              "\n",
              "                                       log_liklihood  pred  label  \n",
              "0  [-28.10063235592232, -29.23912615425182, -27.8...     2      2  \n",
              "1  [-28.09221164315901, -27.797266508310955, -27....     2      2  \n",
              "2  [-27.084397735861835, -28.234816077714385, -26...     2      2  \n",
              "3  [-26.185709216517715, -26.948760302056286, -26...     2      2  \n",
              "4  [-26.892155401604054, -27.970491474491116, -26...     2      2  "
            ],
            "text/html": [
              "\n",
              "  <div id=\"df-b9944c17-fc76-4e3f-8e59-aea7202e513b\" class=\"colab-df-container\">\n",
              "    <div>\n",
              "<style scoped>\n",
              "    .dataframe tbody tr th:only-of-type {\n",
              "        vertical-align: middle;\n",
              "    }\n",
              "\n",
              "    .dataframe tbody tr th {\n",
              "        vertical-align: top;\n",
              "    }\n",
              "\n",
              "    .dataframe thead th {\n",
              "        text-align: right;\n",
              "    }\n",
              "</style>\n",
              "<table border=\"1\" class=\"dataframe\">\n",
              "  <thead>\n",
              "    <tr style=\"text-align: right;\">\n",
              "      <th></th>\n",
              "      <th>wav_file</th>\n",
              "      <th>log_liklihood</th>\n",
              "      <th>pred</th>\n",
              "      <th>label</th>\n",
              "    </tr>\n",
              "  </thead>\n",
              "  <tbody>\n",
              "    <tr>\n",
              "      <th>0</th>\n",
              "      <td>/content/speaker_verification/sample_data/id10...</td>\n",
              "      <td>[-28.10063235592232, -29.23912615425182, -27.8...</td>\n",
              "      <td>2</td>\n",
              "      <td>2</td>\n",
              "    </tr>\n",
              "    <tr>\n",
              "      <th>1</th>\n",
              "      <td>/content/speaker_verification/sample_data/id10...</td>\n",
              "      <td>[-28.09221164315901, -27.797266508310955, -27....</td>\n",
              "      <td>2</td>\n",
              "      <td>2</td>\n",
              "    </tr>\n",
              "    <tr>\n",
              "      <th>2</th>\n",
              "      <td>/content/speaker_verification/sample_data/id10...</td>\n",
              "      <td>[-27.084397735861835, -28.234816077714385, -26...</td>\n",
              "      <td>2</td>\n",
              "      <td>2</td>\n",
              "    </tr>\n",
              "    <tr>\n",
              "      <th>3</th>\n",
              "      <td>/content/speaker_verification/sample_data/id10...</td>\n",
              "      <td>[-26.185709216517715, -26.948760302056286, -26...</td>\n",
              "      <td>2</td>\n",
              "      <td>2</td>\n",
              "    </tr>\n",
              "    <tr>\n",
              "      <th>4</th>\n",
              "      <td>/content/speaker_verification/sample_data/id10...</td>\n",
              "      <td>[-26.892155401604054, -27.970491474491116, -26...</td>\n",
              "      <td>2</td>\n",
              "      <td>2</td>\n",
              "    </tr>\n",
              "  </tbody>\n",
              "</table>\n",
              "</div>\n",
              "    <div class=\"colab-df-buttons\">\n",
              "\n",
              "  <div class=\"colab-df-container\">\n",
              "    <button class=\"colab-df-convert\" onclick=\"convertToInteractive('df-b9944c17-fc76-4e3f-8e59-aea7202e513b')\"\n",
              "            title=\"Convert this dataframe to an interactive table.\"\n",
              "            style=\"display:none;\">\n",
              "\n",
              "  <svg xmlns=\"http://www.w3.org/2000/svg\" height=\"24px\" viewBox=\"0 -960 960 960\">\n",
              "    <path d=\"M120-120v-720h720v720H120Zm60-500h600v-160H180v160Zm220 220h160v-160H400v160Zm0 220h160v-160H400v160ZM180-400h160v-160H180v160Zm440 0h160v-160H620v160ZM180-180h160v-160H180v160Zm440 0h160v-160H620v160Z\"/>\n",
              "  </svg>\n",
              "    </button>\n",
              "\n",
              "  <style>\n",
              "    .colab-df-container {\n",
              "      display:flex;\n",
              "      gap: 12px;\n",
              "    }\n",
              "\n",
              "    .colab-df-convert {\n",
              "      background-color: #E8F0FE;\n",
              "      border: none;\n",
              "      border-radius: 50%;\n",
              "      cursor: pointer;\n",
              "      display: none;\n",
              "      fill: #1967D2;\n",
              "      height: 32px;\n",
              "      padding: 0 0 0 0;\n",
              "      width: 32px;\n",
              "    }\n",
              "\n",
              "    .colab-df-convert:hover {\n",
              "      background-color: #E2EBFA;\n",
              "      box-shadow: 0px 1px 2px rgba(60, 64, 67, 0.3), 0px 1px 3px 1px rgba(60, 64, 67, 0.15);\n",
              "      fill: #174EA6;\n",
              "    }\n",
              "\n",
              "    .colab-df-buttons div {\n",
              "      margin-bottom: 4px;\n",
              "    }\n",
              "\n",
              "    [theme=dark] .colab-df-convert {\n",
              "      background-color: #3B4455;\n",
              "      fill: #D2E3FC;\n",
              "    }\n",
              "\n",
              "    [theme=dark] .colab-df-convert:hover {\n",
              "      background-color: #434B5C;\n",
              "      box-shadow: 0px 1px 3px 1px rgba(0, 0, 0, 0.15);\n",
              "      filter: drop-shadow(0px 1px 2px rgba(0, 0, 0, 0.3));\n",
              "      fill: #FFFFFF;\n",
              "    }\n",
              "  </style>\n",
              "\n",
              "    <script>\n",
              "      const buttonEl =\n",
              "        document.querySelector('#df-b9944c17-fc76-4e3f-8e59-aea7202e513b button.colab-df-convert');\n",
              "      buttonEl.style.display =\n",
              "        google.colab.kernel.accessAllowed ? 'block' : 'none';\n",
              "\n",
              "      async function convertToInteractive(key) {\n",
              "        const element = document.querySelector('#df-b9944c17-fc76-4e3f-8e59-aea7202e513b');\n",
              "        const dataTable =\n",
              "          await google.colab.kernel.invokeFunction('convertToInteractive',\n",
              "                                                    [key], {});\n",
              "        if (!dataTable) return;\n",
              "\n",
              "        const docLinkHtml = 'Like what you see? Visit the ' +\n",
              "          '<a target=\"_blank\" href=https://colab.research.google.com/notebooks/data_table.ipynb>data table notebook</a>'\n",
              "          + ' to learn more about interactive tables.';\n",
              "        element.innerHTML = '';\n",
              "        dataTable['output_type'] = 'display_data';\n",
              "        await google.colab.output.renderOutput(dataTable, element);\n",
              "        const docLink = document.createElement('div');\n",
              "        docLink.innerHTML = docLinkHtml;\n",
              "        element.appendChild(docLink);\n",
              "      }\n",
              "    </script>\n",
              "  </div>\n",
              "\n",
              "\n",
              "<div id=\"df-f2be2c3b-ac96-4d57-a15b-dda8b6889033\">\n",
              "  <button class=\"colab-df-quickchart\" onclick=\"quickchart('df-f2be2c3b-ac96-4d57-a15b-dda8b6889033')\"\n",
              "            title=\"Suggest charts\"\n",
              "            style=\"display:none;\">\n",
              "\n",
              "<svg xmlns=\"http://www.w3.org/2000/svg\" height=\"24px\"viewBox=\"0 0 24 24\"\n",
              "     width=\"24px\">\n",
              "    <g>\n",
              "        <path d=\"M19 3H5c-1.1 0-2 .9-2 2v14c0 1.1.9 2 2 2h14c1.1 0 2-.9 2-2V5c0-1.1-.9-2-2-2zM9 17H7v-7h2v7zm4 0h-2V7h2v10zm4 0h-2v-4h2v4z\"/>\n",
              "    </g>\n",
              "</svg>\n",
              "  </button>\n",
              "\n",
              "<style>\n",
              "  .colab-df-quickchart {\n",
              "      --bg-color: #E8F0FE;\n",
              "      --fill-color: #1967D2;\n",
              "      --hover-bg-color: #E2EBFA;\n",
              "      --hover-fill-color: #174EA6;\n",
              "      --disabled-fill-color: #AAA;\n",
              "      --disabled-bg-color: #DDD;\n",
              "  }\n",
              "\n",
              "  [theme=dark] .colab-df-quickchart {\n",
              "      --bg-color: #3B4455;\n",
              "      --fill-color: #D2E3FC;\n",
              "      --hover-bg-color: #434B5C;\n",
              "      --hover-fill-color: #FFFFFF;\n",
              "      --disabled-bg-color: #3B4455;\n",
              "      --disabled-fill-color: #666;\n",
              "  }\n",
              "\n",
              "  .colab-df-quickchart {\n",
              "    background-color: var(--bg-color);\n",
              "    border: none;\n",
              "    border-radius: 50%;\n",
              "    cursor: pointer;\n",
              "    display: none;\n",
              "    fill: var(--fill-color);\n",
              "    height: 32px;\n",
              "    padding: 0;\n",
              "    width: 32px;\n",
              "  }\n",
              "\n",
              "  .colab-df-quickchart:hover {\n",
              "    background-color: var(--hover-bg-color);\n",
              "    box-shadow: 0 1px 2px rgba(60, 64, 67, 0.3), 0 1px 3px 1px rgba(60, 64, 67, 0.15);\n",
              "    fill: var(--button-hover-fill-color);\n",
              "  }\n",
              "\n",
              "  .colab-df-quickchart-complete:disabled,\n",
              "  .colab-df-quickchart-complete:disabled:hover {\n",
              "    background-color: var(--disabled-bg-color);\n",
              "    fill: var(--disabled-fill-color);\n",
              "    box-shadow: none;\n",
              "  }\n",
              "\n",
              "  .colab-df-spinner {\n",
              "    border: 2px solid var(--fill-color);\n",
              "    border-color: transparent;\n",
              "    border-bottom-color: var(--fill-color);\n",
              "    animation:\n",
              "      spin 1s steps(1) infinite;\n",
              "  }\n",
              "\n",
              "  @keyframes spin {\n",
              "    0% {\n",
              "      border-color: transparent;\n",
              "      border-bottom-color: var(--fill-color);\n",
              "      border-left-color: var(--fill-color);\n",
              "    }\n",
              "    20% {\n",
              "      border-color: transparent;\n",
              "      border-left-color: var(--fill-color);\n",
              "      border-top-color: var(--fill-color);\n",
              "    }\n",
              "    30% {\n",
              "      border-color: transparent;\n",
              "      border-left-color: var(--fill-color);\n",
              "      border-top-color: var(--fill-color);\n",
              "      border-right-color: var(--fill-color);\n",
              "    }\n",
              "    40% {\n",
              "      border-color: transparent;\n",
              "      border-right-color: var(--fill-color);\n",
              "      border-top-color: var(--fill-color);\n",
              "    }\n",
              "    60% {\n",
              "      border-color: transparent;\n",
              "      border-right-color: var(--fill-color);\n",
              "    }\n",
              "    80% {\n",
              "      border-color: transparent;\n",
              "      border-right-color: var(--fill-color);\n",
              "      border-bottom-color: var(--fill-color);\n",
              "    }\n",
              "    90% {\n",
              "      border-color: transparent;\n",
              "      border-bottom-color: var(--fill-color);\n",
              "    }\n",
              "  }\n",
              "</style>\n",
              "\n",
              "  <script>\n",
              "    async function quickchart(key) {\n",
              "      const quickchartButtonEl =\n",
              "        document.querySelector('#' + key + ' button');\n",
              "      quickchartButtonEl.disabled = true;  // To prevent multiple clicks.\n",
              "      quickchartButtonEl.classList.add('colab-df-spinner');\n",
              "      try {\n",
              "        const charts = await google.colab.kernel.invokeFunction(\n",
              "            'suggestCharts', [key], {});\n",
              "      } catch (error) {\n",
              "        console.error('Error during call to suggestCharts:', error);\n",
              "      }\n",
              "      quickchartButtonEl.classList.remove('colab-df-spinner');\n",
              "      quickchartButtonEl.classList.add('colab-df-quickchart-complete');\n",
              "    }\n",
              "    (() => {\n",
              "      let quickchartButtonEl =\n",
              "        document.querySelector('#df-f2be2c3b-ac96-4d57-a15b-dda8b6889033 button');\n",
              "      quickchartButtonEl.style.display =\n",
              "        google.colab.kernel.accessAllowed ? 'block' : 'none';\n",
              "    })();\n",
              "  </script>\n",
              "</div>\n",
              "    </div>\n",
              "  </div>\n"
            ],
            "application/vnd.google.colaboratory.intrinsic+json": {
              "type": "dataframe",
              "variable_name": "df",
              "summary": "{\n  \"name\": \"df\",\n  \"rows\": 194,\n  \"fields\": [\n    {\n      \"column\": \"wav_file\",\n      \"properties\": {\n        \"dtype\": \"string\",\n        \"num_unique_values\": 194,\n        \"samples\": [\n          \"/content/speaker_verification/sample_data/id10007/5ExvrJyWpe8_00002.wav\",\n          \"/content/speaker_verification/sample_data/id10002/QanuGhOhb9A_00006.wav\",\n          \"/content/speaker_verification/sample_data/id10008/MIinwxeI1H0_00001.wav\"\n        ],\n        \"semantic_type\": \"\",\n        \"description\": \"\"\n      }\n    },\n    {\n      \"column\": \"log_liklihood\",\n      \"properties\": {\n        \"dtype\": \"object\",\n        \"semantic_type\": \"\",\n        \"description\": \"\"\n      }\n    },\n    {\n      \"column\": \"pred\",\n      \"properties\": {\n        \"dtype\": \"number\",\n        \"std\": 2,\n        \"min\": 0,\n        \"max\": 9,\n        \"num_unique_values\": 10,\n        \"samples\": [\n          7,\n          3,\n          9\n        ],\n        \"semantic_type\": \"\",\n        \"description\": \"\"\n      }\n    },\n    {\n      \"column\": \"label\",\n      \"properties\": {\n        \"dtype\": \"number\",\n        \"std\": 2,\n        \"min\": 0,\n        \"max\": 9,\n        \"num_unique_values\": 10,\n        \"samples\": [\n          8,\n          5,\n          7\n        ],\n        \"semantic_type\": \"\",\n        \"description\": \"\"\n      }\n    }\n  ]\n}"
            }
          },
          "metadata": {},
          "execution_count": 13
        }
      ]
    },
    {
      "cell_type": "markdown",
      "source": [
        "#### Caculate evaluation metrices"
      ],
      "metadata": {
        "id": "3u_yVPY9x4jT"
      }
    },
    {
      "cell_type": "code",
      "source": [
        "accuracy, precision, recall,cm = calculate_metrics(df.label, df.pred)\n",
        "print(\"Accuracy :\", accuracy)\n",
        "print(\"Precision :\", precision)\n",
        "print(\"Recall:\", recall)\n",
        "print(\"Confusion Matrix :\\n\", cm)\n",
        "\n",
        "for i in range(len(speakers)):\n",
        "  print(f\"\\nFAR(%), FRR(%) for class {i} : \", calculate_far_frr_multiclass(cm, i))"
      ],
      "metadata": {
        "colab": {
          "base_uri": "https://localhost:8080/"
        },
        "id": "38tL0x4WMWcm",
        "outputId": "89349c30-4a58-40da-e4c9-dcfaf2929add"
      },
      "execution_count": 14,
      "outputs": [
        {
          "output_type": "stream",
          "name": "stdout",
          "text": [
            "Accuracy : 0.8969072164948454\n",
            "Precision : 0.8813367003367004\n",
            "Recall: 0.8723591127901473\n",
            "Confusion Matrix :\n",
            " [[ 8  0  0  1  0  1  0  0  0  1]\n",
            " [ 0 25  0  0  0  0  0  0  0  0]\n",
            " [ 0  1 10  1  0  0  0  0  0  0]\n",
            " [ 0  0  1  9  0  0  0  0  0  0]\n",
            " [ 0  0  0  0 13  0  0  0  0  0]\n",
            " [ 0  0  0  0  0 26  1  0  0  0]\n",
            " [ 1  0  1  0  0  0 35  0  0  2]\n",
            " [ 0  4  0  0  0  0  0 24  0  1]\n",
            " [ 1  0  0  0  0  0  0  0  5  2]\n",
            " [ 0  0  0  0  0  0  0  0  1 19]]\n",
            "\n",
            "FAR(%), FRR(%) for class 0 :  (1.63, 20.0)\n",
            "\n",
            "FAR(%), FRR(%) for class 1 :  (0.0, 16.67)\n",
            "\n",
            "FAR(%), FRR(%) for class 2 :  (1.1, 16.67)\n",
            "\n",
            "FAR(%), FRR(%) for class 3 :  (0.55, 18.18)\n",
            "\n",
            "FAR(%), FRR(%) for class 4 :  (0.0, 0.0)\n",
            "\n",
            "FAR(%), FRR(%) for class 5 :  (0.6, 3.7)\n",
            "\n",
            "FAR(%), FRR(%) for class 6 :  (2.53, 2.78)\n",
            "\n",
            "FAR(%), FRR(%) for class 7 :  (2.94, 0.0)\n",
            "\n",
            "FAR(%), FRR(%) for class 8 :  (1.6, 16.67)\n",
            "\n",
            "FAR(%), FRR(%) for class 9 :  (0.59, 24.0)\n"
          ]
        }
      ]
    },
    {
      "cell_type": "code",
      "source": [],
      "metadata": {
        "id": "sYB-Jg81Rla0"
      },
      "execution_count": 14,
      "outputs": []
    }
  ]
}